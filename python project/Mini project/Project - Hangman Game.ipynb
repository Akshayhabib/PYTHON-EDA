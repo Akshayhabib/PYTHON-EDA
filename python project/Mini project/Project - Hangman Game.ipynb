{
 "cells": [
  {
   "cell_type": "markdown",
   "metadata": {},
   "source": [
    "# Project - Hangman Game\n"
   ]
  },
  {
   "cell_type": "markdown",
   "metadata": {},
   "source": [
    "### Description\n",
    "- The game is as follows.\n",
    "- Computer has a list of words.\n",
    "- Computer chooses a random word from the list.\n",
    "- The player gets 10 wrong guesses (10 turns).\n",
    "- The game follows this loop\n",
    "    - Computer prints the word character by character replacing with underscore those not guessed yet (initial no characters has been guessed).\n",
    "    - Player guesses a character.\n",
    "    - If character is not in word, a turn is withdrawn\n",
    "    - If no turns left, computer wins.\n",
    "    - If player has guessed all characters, player wins\n",
    "- An initial word list could be: ['python', 'regression', 'ironman','desktop', 'physics', 'multiverse','classification', 'goku', 'vegeta', 'cristiano']"
   ]
  },
  {
   "cell_type": "code",
   "execution_count": 1,
   "id": "c090b787",
   "metadata": {},
   "outputs": [],
   "source": [
    "list_of_words= ['python', 'regression', 'ironman',\n",
    "       'desktop', 'physics', 'multiverse', \n",
    "       'classification', 'goku', 'vegeta', 'cristiano']"
   ]
  },
  {
   "cell_type": "code",
   "execution_count": 5,
   "id": "d74d413d",
   "metadata": {},
   "outputs": [
    {
     "data": {
      "text/plain": [
       "'desktop'"
      ]
     },
     "execution_count": 5,
     "metadata": {},
     "output_type": "execute_result"
    }
   ],
   "source": [
    "import random\n",
    "word=random.choice(list_of_words)\n",
    "word"
   ]
  },
  {
   "cell_type": "code",
   "execution_count": 6,
   "metadata": {},
   "outputs": [
    {
     "name": "stdout",
     "output_type": "stream",
     "text": [
      "you have 10 chances left\n",
      "_ _ _ _ _ _ _ \n",
      "guess a character:d\n",
      "you have 10 chances left\n",
      "d _ _ _ _ _ _ \n",
      "guess a character:e\n",
      "you have 10 chances left\n",
      "d e _ _ _ _ _ \n",
      "guess a character:s\n",
      "you have 10 chances left\n",
      "d e s _ _ _ _ \n",
      "guess a character:k\n",
      "you have 10 chances left\n",
      "d e s k _ _ _ \n",
      "guess a character:t\n",
      "you have 10 chances left\n",
      "d e s k t _ _ \n",
      "guess a character:o\n",
      "you have 10 chances left\n",
      "d e s k t o _ \n",
      "guess a character:p\n",
      "you have 10 chances left\n",
      "d e s k t o p \n"
     ]
    }
   ],
   "source": [
    "guesses=''\n",
    "chances=10\n",
    "while chances>0:\n",
    "    \n",
    "    print(f'you have {chances} chances left')\n",
    "    \n",
    "    guessed_all=True\n",
    "    for i in word:\n",
    "        if i in guesses:\n",
    "            print(i,end=' ')\n",
    "           \n",
    "        else:\n",
    "            print('_',end=' ')\n",
    "            guessed_all=False\n",
    "    print()\n",
    "    \n",
    "    \n",
    "    if not guessed_all:        \n",
    "        guess=input('guess a character:')\n",
    "        guesses=guesses+guess\n",
    "        \n",
    "        if guess not in word:\n",
    "            chances= chances-1\n",
    "     \n",
    "    else:\n",
    "        chances=0\n",
    "    \n",
    "\n",
    "\n",
    "        "
   ]
  },
  {
   "cell_type": "code",
   "execution_count": null,
   "metadata": {},
   "outputs": [],
   "source": []
  },
  {
   "cell_type": "code",
   "execution_count": null,
   "metadata": {},
   "outputs": [],
   "source": []
  },
  {
   "cell_type": "code",
   "execution_count": null,
   "metadata": {},
   "outputs": [],
   "source": []
  },
  {
   "cell_type": "code",
   "execution_count": null,
   "metadata": {
    "collapsed": true
   },
   "outputs": [],
   "source": []
  }
 ],
 "metadata": {
  "kernelspec": {
   "display_name": "Python 3 (ipykernel)",
   "language": "python",
   "name": "python3"
  },
  "language_info": {
   "codemirror_mode": {
    "name": "ipython",
    "version": 3
   },
   "file_extension": ".py",
   "mimetype": "text/x-python",
   "name": "python",
   "nbconvert_exporter": "python",
   "pygments_lexer": "ipython3",
   "version": "3.8.8"
  }
 },
 "nbformat": 4,
 "nbformat_minor": 4
}
