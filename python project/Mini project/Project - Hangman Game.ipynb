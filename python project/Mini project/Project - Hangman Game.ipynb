{
 "cells": [
  {
   "cell_type": "markdown",
   "metadata": {},
   "source": [
    "# Project - Hangman Game\n",
    "### Goal\n",
    "- Create a [Hangman Game](https://en.wikipedia.org/wiki/Hangman_(game))"
   ]
  },
  {
   "cell_type": "markdown",
   "metadata": {},
   "source": [
    "### Description\n",
    "- The game is as follows.\n",
    "- Computer has a list of words.\n",
    "- Computer chooses a random word from the list.\n",
    "- The player gets 10 wrong guesses (10 turns).\n",
    "- The game follows this loop\n",
    "    - Computer prints the word character by character replacing with underscore those not guessed yet (initial no characters has been guessed).\n",
    "    - Player guesses a character.\n",
    "    - If character is not in word, a turn is withdrawn\n",
    "    - If no turns left, computer wins.\n",
    "    - If player has guessed all characters, player wins\n",
    "- An initial word list could be: ['father', 'enterprise', 'science', 'programming', 'resistance', 'fiction', 'condition', 'reverse', 'computer', 'python']"
   ]
  },
  {
   "cell_type": "code",
   "execution_count": 2,
   "id": "c090b787",
   "metadata": {},
   "outputs": [],
   "source": [
    "list_of_words= ['father', 'enterprise', 'science',\n",
    "       'programming', 'resistance',\n",
    "       'fiction', 'condition', \n",
    "       'reverse', 'computer', 'python']"
   ]
  },
  {
   "cell_type": "code",
   "execution_count": 3,
   "id": "d74d413d",
   "metadata": {},
   "outputs": [
    {
     "data": {
      "text/plain": [
       "'fiction'"
      ]
     },
     "execution_count": 3,
     "metadata": {},
     "output_type": "execute_result"
    }
   ],
   "source": [
    "import random\n",
    "word=random.choice(list_of_words)\n",
    "word"
   ]
  },
  {
   "cell_type": "code",
   "execution_count": 66,
   "metadata": {},
   "outputs": [
    {
     "name": "stdout",
     "output_type": "stream",
     "text": [
      "you have 10 chances left\n",
      "_ _ _ _ _ _ _ \n",
      "guess a character:f\n",
      "you have 10 chances left\n",
      "f _ _ _ _ _ _ \n",
      "guess a character:i\n",
      "you have 10 chances left\n",
      "f i _ _ i _ _ \n",
      "guess a character:c\n",
      "you have 10 chances left\n",
      "f i c _ i _ _ \n",
      "guess a character:t\n",
      "you have 10 chances left\n",
      "f i c t i _ _ \n",
      "guess a character:o\n",
      "you have 10 chances left\n",
      "f i c t i o _ \n",
      "guess a character:n\n",
      "you have 10 chances left\n",
      "f i c t i o n \n"
     ]
    }
   ],
   "source": [
    "guesses=''\n",
    "chances=10\n",
    "while chances>0:\n",
    "    \n",
    "    print(f'you have {chances} chances left')\n",
    "    \n",
    "    guessed_all=True\n",
    "    for i in word:\n",
    "        if i in guesses:\n",
    "            print(i,end=' ')\n",
    "           \n",
    "        else:\n",
    "            print('_',end=' ')\n",
    "            guessed_all=False\n",
    "    print()\n",
    "    \n",
    "    \n",
    "    if not guessed_all:        \n",
    "        guess=input('guess a character:')\n",
    "        guesses=guesses+guess\n",
    "        \n",
    "        if guess not in word:\n",
    "            chances= chances-1\n",
    "     \n",
    "    else:\n",
    "        chances=0\n",
    "    \n",
    "\n",
    "\n",
    "        "
   ]
  },
  {
   "cell_type": "code",
   "execution_count": null,
   "metadata": {},
   "outputs": [],
   "source": []
  },
  {
   "cell_type": "code",
   "execution_count": null,
   "metadata": {},
   "outputs": [],
   "source": []
  },
  {
   "cell_type": "code",
   "execution_count": null,
   "metadata": {},
   "outputs": [],
   "source": []
  },
  {
   "cell_type": "code",
   "execution_count": null,
   "metadata": {
    "collapsed": true
   },
   "outputs": [],
   "source": []
  }
 ],
 "metadata": {
  "kernelspec": {
   "display_name": "Python 3 (ipykernel)",
   "language": "python",
   "name": "python3"
  },
  "language_info": {
   "codemirror_mode": {
    "name": "ipython",
    "version": 3
   },
   "file_extension": ".py",
   "mimetype": "text/x-python",
   "name": "python",
   "nbconvert_exporter": "python",
   "pygments_lexer": "ipython3",
   "version": "3.8.8"
  }
 },
 "nbformat": 4,
 "nbformat_minor": 4
}
