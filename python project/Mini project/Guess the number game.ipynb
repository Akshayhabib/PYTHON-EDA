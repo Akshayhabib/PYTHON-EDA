{
 "cells": [
  {
   "cell_type": "code",
   "execution_count": 1,
   "id": "b045fdfe",
   "metadata": {},
   "outputs": [
    {
     "name": "stdout",
     "output_type": "stream",
     "text": [
      "congratulations! You guessed it correctly, The number is 95.\n",
      "\n",
      "It took you 17 guesses !\n"
     ]
    }
   ],
   "source": [
    "# guessing game\n",
    "from random import randint\n",
    "from IPython.display import clear_output\n",
    "\n",
    "guessed=False\n",
    "\n",
    "number=randint(0,100)\n",
    "\n",
    "guesses=0\n",
    "\n",
    "while not guessed:\n",
    "    answer=input(\"Try to guess the number I am thinking of!\")\n",
    "    \n",
    "    guesses+=1\n",
    "    clear_output()\n",
    "    if int(answer)==number:\n",
    "        print(\"congratulations! You guessed it correctly, The number is {}.\".format(answer))\n",
    "        \n",
    "        print(\"\")\n",
    "        print(\"It took you {} guesses !\".format(guesses))\n",
    "        break\n",
    "    elif int(answer)>number:\n",
    "        print(\"The number is not {},The number is lower than what you guessed.\".format(answer))\n",
    "        \n",
    "    elif int(answer)<number:\n",
    "        print(\"The number is not {},The number is greater than what you guessed.\".format(answer))\n",
    "        "
   ]
  },
  {
   "cell_type": "code",
   "execution_count": null,
   "id": "528878c0",
   "metadata": {},
   "outputs": [],
   "source": []
  }
 ],
 "metadata": {
  "kernelspec": {
   "display_name": "Python 3 (ipykernel)",
   "language": "python",
   "name": "python3"
  },
  "language_info": {
   "codemirror_mode": {
    "name": "ipython",
    "version": 3
   },
   "file_extension": ".py",
   "mimetype": "text/x-python",
   "name": "python",
   "nbconvert_exporter": "python",
   "pygments_lexer": "ipython3",
   "version": "3.9.12"
  }
 },
 "nbformat": 4,
 "nbformat_minor": 5
}
