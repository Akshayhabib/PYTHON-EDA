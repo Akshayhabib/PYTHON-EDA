{
 "cells": [
  {
   "cell_type": "markdown",
   "metadata": {},
   "source": [
    "# Project - Math Game and Rock-Paper-Scissor Game\n",
    "### Goal\n",
    "- Create a Math Game\n",
    "- Create a [Rock-Paper-Scissors Game](https://en.wikipedia.org/wiki/Rock_paper_scissors)"
   ]
  },
  {
   "cell_type": "markdown",
   "metadata": {},
   "source": [
    "### Math Game\n",
    "- First, import random\n",
    "- Get a random inteteger from the range 1 to 10 (both inclusive)\n",
    "- Get another random inteteger from the range 1 to 10 (both inclusive)\n",
    "- Prompt the user for what the two integers multiplied is\n",
    "- Print if correct or not. If not corrrect, print the correct answer."
   ]
  },
  {
   "cell_type": "code",
   "execution_count": 1,
   "id": "25ad0935",
   "metadata": {},
   "outputs": [],
   "source": [
    "import random"
   ]
  },
  {
   "cell_type": "code",
   "execution_count": 25,
   "metadata": {},
   "outputs": [
    {
     "name": "stdout",
     "output_type": "stream",
     "text": [
      "what is 4 times 7:28\n",
      "correct answer\n"
     ]
    }
   ],
   "source": [
    "a=random.randint(0,10)\n",
    "b=random.randint(0,10)\n",
    "answer=int(input(f'what is {a} times {b}:'))\n",
    "if answer==a*b:\n",
    "    print('correct answer')\n",
    "    \n",
    "else:\n",
    "    print('incorrect')\n",
    "    \n",
    "\n"
   ]
  },
  {
   "cell_type": "markdown",
   "metadata": {},
   "source": [
    "### Rock, Paper, Scissors Game\n",
    "\n",
    "![Rock Paper Scissor](img/RockPaperScissors.png \"Rock-Paper-Scissor\")"
   ]
  },
  {
   "cell_type": "code",
   "execution_count": 61,
   "id": "f8b74306",
   "metadata": {},
   "outputs": [
    {
     "name": "stdout",
     "output_type": "stream",
     "text": [
      "enter choice: 1:rock, 2:paper, 3:scissors\n",
      "choice(1/2/3):1\n",
      "computer choice: 2\n",
      "computer Wins\n"
     ]
    }
   ],
   "source": [
    "print('enter choice: 1:rock, 2:paper, 3:scissors')\n",
    "choice=int(input('choice(1/2/3):'))\n",
    "\n",
    "computer_choice=random.randint(1,3)\n",
    "print(f'computer choice: {computer_choice}')\n",
    "\n",
    "if choice==computer_choice:\n",
    "    print('Draw')\n",
    "elif choice==1:\n",
    "    if computer_choice==2:\n",
    "        print('computer Wins')\n",
    "    else:\n",
    "        print('YOU Win')       \n",
    "elif choice==2:\n",
    "    if computer_choice==1:\n",
    "        print('computer Wins')\n",
    "    else:\n",
    "        print('YOU Win')       \n",
    "elif choice==3:\n",
    "    if computer_choice==1:\n",
    "        print('computer Wins')\n",
    "    else:\n",
    "        print('YOU Win')        "
   ]
  },
  {
   "cell_type": "code",
   "execution_count": null,
   "metadata": {},
   "outputs": [],
   "source": []
  },
  {
   "cell_type": "code",
   "execution_count": null,
   "metadata": {},
   "outputs": [],
   "source": []
  }
 ],
 "metadata": {
  "kernelspec": {
   "display_name": "Python 3 (ipykernel)",
   "language": "python",
   "name": "python3"
  },
  "language_info": {
   "codemirror_mode": {
    "name": "ipython",
    "version": 3
   },
   "file_extension": ".py",
   "mimetype": "text/x-python",
   "name": "python",
   "nbconvert_exporter": "python",
   "pygments_lexer": "ipython3",
   "version": "3.8.8"
  }
 },
 "nbformat": 4,
 "nbformat_minor": 4
}
