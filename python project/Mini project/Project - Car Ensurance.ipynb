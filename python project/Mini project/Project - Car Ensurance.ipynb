{
 "cells": [
  {
   "cell_type": "markdown",
   "metadata": {},
   "source": [
    "# Project - Car Ensurance\n",
    "### Goal\n",
    "- Car ensurance calculation based on the following decision tree"
   ]
  },
  {
   "cell_type": "markdown",
   "metadata": {},
   "source": [
    "![alt text](img/DecisionTree.png \"Title\")"
   ]
  },
  {
   "cell_type": "markdown",
   "metadata": {},
   "source": [
    "### Description\n",
    "- This is a fictional car insurance company called Car Crash\n",
    "- They calculate the yearly ensurance price based on the current market price of the car\n",
    "- Given the market price: market_price\n",
    "- Then the yearly ensurance price is 9% of the market_price if it is a male above 26 years old.\n",
    "- As we see in the decision tree, we have 4 possible price calculations.\n",
    "- Create a program, which takes input and based on that calculated the correct price for all 4 cases"
   ]
  },
  {
   "cell_type": "code",
   "execution_count": 1,
   "id": "cf8ec9e0",
   "metadata": {},
   "outputs": [
    {
     "name": "stdout",
     "output_type": "stream",
     "text": [
      "what is your gender(M/F):m\n",
      "Male\n",
      "what is your age:22\n",
      "less than/equal to 26\n",
      "what is the market price of your car:30000\n",
      "Ensurance_offer 6900.0\n"
     ]
    }
   ],
   "source": [
    "gender=input('what is your gender(M/F):')\n",
    "gender=gender.upper()\n",
    "if gender =='M':\n",
    "    print('Male')\n",
    "    age=input('what is your age:')\n",
    "    age=int(age)\n",
    "    if age<=26:\n",
    "        print('less than/equal to 26')\n",
    "        percentage=23\n",
    "    else:\n",
    "        print('greater than 26')\n",
    "        percentage=9\n",
    "elif gender == 'F':\n",
    "    print('Female')\n",
    "    car_type=input('what is your car type(Sports/non_sports):')\n",
    "    car_type=car_type.upper()\n",
    "    if car_type =='SPORTS':\n",
    "        print('Sports car')\n",
    "        percentage=21\n",
    "    else:\n",
    "        print('Non_sports car')\n",
    "        percentage=10\n",
    "    \n",
    "else:\n",
    "    print('Invalid Format ')   \n",
    "    \n",
    "market_price=int(input('what is the market price of your car:'))\n",
    "\n",
    "ensurance_offer=market_price*percentage/100\n",
    "\n",
    "print(f'Ensurance_offer {ensurance_offer}')\n",
    "\n",
    "\n",
    "\n",
    "#car_price=float(input('input the car price:'))\n"
   ]
  },
  {
   "cell_type": "code",
   "execution_count": null,
   "metadata": {},
   "outputs": [],
   "source": []
  }
 ],
 "metadata": {
  "interpreter": {
   "hash": "5c90c1d594dfb0c0a214114e697ab0324aa1ff3ed1581204f53f386b0904c55e"
  },
  "kernelspec": {
   "display_name": "Python 3 (ipykernel)",
   "language": "python",
   "name": "python3"
  },
  "language_info": {
   "codemirror_mode": {
    "name": "ipython",
    "version": 3
   },
   "file_extension": ".py",
   "mimetype": "text/x-python",
   "name": "python",
   "nbconvert_exporter": "python",
   "pygments_lexer": "ipython3",
   "version": "3.8.8"
  }
 },
 "nbformat": 4,
 "nbformat_minor": 4
}
