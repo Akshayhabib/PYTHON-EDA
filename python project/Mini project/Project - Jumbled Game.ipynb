{
 "cells": [
  {
   "cell_type": "markdown",
   "metadata": {},
   "source": [
    "# Project - Jumbled Game\n"
   ]
  },
  {
   "cell_type": "markdown",
   "metadata": {},
   "source": [
    "### Description\n",
    "- A word jumble is a word puzzle game that presents the player with a bunch of mixed up letters and requires them to unscramble the letters to find the hidden word.\n",
    "- The computer will take word and jumble it (mix up the letters).\n",
    "- Then the player will guess what the word is\n",
    "- An initial word list could be['python', 'regression', 'ironman','desktop', 'physics', 'multiverse','classification', 'goku', 'vegeta', 'cristiano']"
   ]
  },
  {
   "cell_type": "code",
   "execution_count": 1,
   "id": "bf1ffe93",
   "metadata": {},
   "outputs": [],
   "source": [
    "words=['python', 'regression', 'ironman',\n",
    "       'desktop', 'physics', 'multiverse', \n",
    "       'classification', 'goku', 'vegeta', 'cristiano']"
   ]
  },
  {
   "cell_type": "code",
   "execution_count": 2,
   "metadata": {},
   "outputs": [],
   "source": [
    "import random"
   ]
  },
  {
   "cell_type": "code",
   "execution_count": 3,
   "id": "8c6076f7",
   "metadata": {},
   "outputs": [
    {
     "name": "stdout",
     "output_type": "stream",
     "text": [
      "The jumble word is etkdpso:\n",
      "Guess the  word :desktop\n",
      "correct word\n"
     ]
    }
   ],
   "source": [
    "word=random.choice(words)\n",
    "jumble_word=''.join(random.sample(word, len(word)))\n",
    "print(f'The jumble word is {jumble_word}:')\n",
    "user_input=input('Guess the  word :')\n",
    "\n",
    "\n",
    "if user_input==word:\n",
    "    print('correct word')\n",
    "    \n",
    "else:\n",
    "    print(f'Incorrect: The correct word is {word}')"
   ]
  },
  {
   "cell_type": "code",
   "execution_count": null,
   "metadata": {},
   "outputs": [],
   "source": []
  }
 ],
 "metadata": {
  "kernelspec": {
   "display_name": "Python 3 (ipykernel)",
   "language": "python",
   "name": "python3"
  },
  "language_info": {
   "codemirror_mode": {
    "name": "ipython",
    "version": 3
   },
   "file_extension": ".py",
   "mimetype": "text/x-python",
   "name": "python",
   "nbconvert_exporter": "python",
   "pygments_lexer": "ipython3",
   "version": "3.8.8"
  }
 },
 "nbformat": 4,
 "nbformat_minor": 4
}
