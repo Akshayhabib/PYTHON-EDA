{
 "cells": [
  {
   "cell_type": "code",
   "execution_count": 13,
   "id": "18c596af-e5f7-44aa-9bcc-11ff94280da8",
   "metadata": {},
   "outputs": [
    {
     "name": "stdin",
     "output_type": "stream",
     "text": [
      "Enter your body weight in kg :  60\n",
      "Enter you height in metres : 1.73\n"
     ]
    },
    {
     "name": "stdout",
     "output_type": "stream",
     "text": [
      "Your Body Mass Index is 20.05\n",
      "Normal (healthy weight)\n"
     ]
    }
   ],
   "source": [
    "Weight=float(input(\"Enter your body weight in kg : \" ))\n",
    "Height=float(input(\"Enter you height in metres :\"))\n",
    "\n",
    "#Metric BMI Formula\n",
    "BMI=round((Weight/Height**2),2)\n",
    "print(f\"Your Body Mass Index is {BMI}\")\n",
    "\n",
    "if BMI <15:\n",
    "    print(\"Very severely underweight\")\n",
    "    \n",
    "elif BMI >=15 and BMI <=16:\n",
    "    print(\"Severely underweight\")\n",
    "\n",
    "elif BMI >=16 and BMI <=18.5:\n",
    "    print(\"Underweight\")\n",
    "    \n",
    "elif BMI >=18.5 and BMI <=25:\n",
    "    print(\"Normal (healthy weight)\")\n",
    "\n",
    "elif BMI >=25 and BMI <=30:\n",
    "    print(\"Overweight\")\n",
    "    \n",
    "elif BMI >=30 and BMI <=35:\n",
    "    print(\"Moderately obese\")\n",
    "    \n",
    "elif BMI >=35 and BMI <=40:\n",
    "    print(\"Severely obese\")\n",
    "    \n",
    "else:\n",
    "    print(\"Very severely obese\")"
   ]
  },
  {
   "cell_type": "code",
   "execution_count": null,
   "id": "513ed9b3-7b77-4d15-81db-e260ae188bf6",
   "metadata": {},
   "outputs": [],
   "source": []
  }
 ],
 "metadata": {
  "kernelspec": {
   "display_name": "Python 3 (ipykernel)",
   "language": "python",
   "name": "python3"
  },
  "language_info": {
   "codemirror_mode": {
    "name": "ipython",
    "version": 3
   },
   "file_extension": ".py",
   "mimetype": "text/x-python",
   "name": "python",
   "nbconvert_exporter": "python",
   "pygments_lexer": "ipython3",
   "version": "3.9.12"
  }
 },
 "nbformat": 4,
 "nbformat_minor": 5
}
