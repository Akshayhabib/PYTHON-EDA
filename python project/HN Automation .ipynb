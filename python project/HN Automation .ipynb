{
 "cells": [
  {
   "cell_type": "markdown",
   "id": "0d883678",
   "metadata": {},
   "source": [
    "# Hacker news email automation"
   ]
  },
  {
   "cell_type": "code",
   "execution_count": 13,
   "id": "e3a2391b",
   "metadata": {},
   "outputs": [],
   "source": [
    "# Importing the Modules\n",
    "\n",
    "import requests \n",
    "\n",
    "from bs4 import BeautifulSoup    # web scraping\n",
    "# Send the mail\n",
    "import smtplib\n",
    "# email body#------>>email.mime(used  for creating email body)\n",
    "from email.mime.multipart import MIMEMultipart\n",
    "from email.mime.text import MIMEText\n",
    "\n",
    "# we have now imported all the Necessary Modules"
   ]
  },
  {
   "cell_type": "code",
   "execution_count": 14,
   "id": "f140226f",
   "metadata": {},
   "outputs": [],
   "source": [
    "# system date and time \n",
    "import datetime\n",
    "\n",
    "now = datetime.datetime.now()"
   ]
  },
  {
   "cell_type": "code",
   "execution_count": 15,
   "id": "d61a2cf6",
   "metadata": {},
   "outputs": [],
   "source": [
    "# email content placeholder\n",
    "\n",
    "content = ''\n"
   ]
  },
  {
   "cell_type": "markdown",
   "id": "345401e6",
   "metadata": {},
   "source": [
    "# extracting Hacker News Stories"
   ]
  },
  {
   "cell_type": "code",
   "execution_count": 16,
   "id": "1838b5eb",
   "metadata": {},
   "outputs": [],
   "source": [
    "\n",
    "def extract_news(url):\n",
    "    print('Extracting Hacker News Stories...')\n",
    "    cnt = ''\n",
    "    cnt +=('<b>HN Top Stories:</b>\\n'+'<br>'+'-'*50+'<br>')\n",
    "    response = requests.get(url)\n",
    "    content = response.content\n",
    "    soup = BeautifulSoup(content,'html.parser')\n",
    "    for i,tag in enumerate(soup.find_all('td',attrs={'class':'title','valign':''})):\n",
    "        cnt += ((str(i+1)+' --> '+tag.text + \"\\n\" + '<br>') if tag.text!='More' else '')\n",
    "        \n",
    "    return(cnt)"
   ]
  },
  {
   "cell_type": "code",
   "execution_count": 17,
   "id": "0fe4a42a",
   "metadata": {},
   "outputs": [
    {
     "name": "stdout",
     "output_type": "stream",
     "text": [
      "Extracting Hacker News Stories...\n"
     ]
    }
   ],
   "source": [
    "cnt = extract_news('https://news.ycombinator.com/')\n",
    "content += cnt\n",
    "content += ('<br>------<br>')\n",
    "content +=('<br><br>Thank you')\n",
    "content +=('<br><br>End of Message')"
   ]
  },
  {
   "cell_type": "markdown",
   "id": "ea0da22e",
   "metadata": {},
   "source": [
    "# email composing and authentication"
   ]
  },
  {
   "cell_type": "code",
   "execution_count": 18,
   "id": "f76c0199",
   "metadata": {},
   "outputs": [
    {
     "name": "stdout",
     "output_type": "stream",
     "text": [
      "Composing Email...\n"
     ]
    }
   ],
   "source": [
    "#lets send the email\n",
    "\n",
    "print('Composing Email...')\n",
    "\n",
    "# update your email details\n",
    "# make sure to update the Google Low App Access settings before\n",
    "\n",
    "SERVER = 'smtp.gmail.com'          #-->> your smtp server\n",
    "PORT = 587                          #-->>gmail port number\n",
    "FROM =  '***' #-->> your from email id\n",
    "TO = '***'  #__>> your to email ids\"  # can be a list\n",
    "PASS = '***'                #-->> your email id's password\n"
   ]
  },
  {
   "cell_type": "markdown",
   "id": "41585e1f",
   "metadata": {},
   "source": [
    "# creating message body"
   ]
  },
  {
   "cell_type": "code",
   "execution_count": 19,
   "id": "a4274f97",
   "metadata": {},
   "outputs": [],
   "source": [
    "\n",
    "msg = MIMEMultipart()"
   ]
  },
  {
   "cell_type": "code",
   "execution_count": 20,
   "id": "3f32f507",
   "metadata": {},
   "outputs": [],
   "source": [
    "\n",
    "msg['Subject'] = 'Top News Stories HN [Automated Email]' + ' ' + str(now.day) + '-' + str(now.month) + '-' + str(now.year)\n",
    "msg['From'] = FROM\n",
    "msg['To'] = TO\n",
    "\n",
    "msg.attach(MIMEText(content, 'html'))"
   ]
  },
  {
   "cell_type": "code",
   "execution_count": 21,
   "id": "5c2611f5",
   "metadata": {},
   "outputs": [],
   "source": [
    "#ehlo----> command sent by an email server to identify itself when connecting to another email server to start the process of sending an email"
   ]
  },
  {
   "cell_type": "code",
   "execution_count": 22,
   "id": "ddc28c7f",
   "metadata": {
    "collapsed": true
   },
   "outputs": [
    {
     "name": "stdout",
     "output_type": "stream",
     "text": [
      "Initiating Server...\n"
     ]
    },
    {
     "name": "stderr",
     "output_type": "stream",
     "text": [
      "send: 'ehlo [192.168.0.101]\\r\\n'\n",
      "reply: b'250-smtp.gmail.com at your service, [103.166.15.70]\\r\\n'\n",
      "reply: b'250-SIZE 35882577\\r\\n'\n",
      "reply: b'250-8BITMIME\\r\\n'\n",
      "reply: b'250-STARTTLS\\r\\n'\n",
      "reply: b'250-ENHANCEDSTATUSCODES\\r\\n'\n",
      "reply: b'250-PIPELINING\\r\\n'\n",
      "reply: b'250-CHUNKING\\r\\n'\n",
      "reply: b'250 SMTPUTF8\\r\\n'\n",
      "reply: retcode (250); Msg: b'smtp.gmail.com at your service, [103.166.15.70]\\nSIZE 35882577\\n8BITMIME\\nSTARTTLS\\nENHANCEDSTATUSCODES\\nPIPELINING\\nCHUNKING\\nSMTPUTF8'\n",
      "send: 'STARTTLS\\r\\n'\n",
      "reply: b'220 2.0.0 Ready to start TLS\\r\\n'\n",
      "reply: retcode (220); Msg: b'2.0.0 Ready to start TLS'\n"
     ]
    },
    {
     "data": {
      "text/plain": [
       "(220, b'2.0.0 Ready to start TLS')"
      ]
     },
     "execution_count": 22,
     "metadata": {},
     "output_type": "execute_result"
    }
   ],
   "source": [
    "\n",
    "print('Initiating Server...')\n",
    "\n",
    "server = smtplib.SMTP(SERVER, PORT)\n",
    "#server = smtplib.SMTP_SSL('smtp.gmail.com', 465)\n",
    "server.set_debuglevel(1)\n",
    "server.ehlo()\n",
    "server.starttls()"
   ]
  },
  {
   "cell_type": "code",
   "execution_count": 23,
   "id": "a2355646",
   "metadata": {
    "collapsed": true
   },
   "outputs": [
    {
     "name": "stderr",
     "output_type": "stream",
     "text": [
      "send: 'ehlo [192.168.0.101]\\r\\n'\n",
      "reply: b'250-smtp.gmail.com at your service, [103.166.15.70]\\r\\n'\n",
      "reply: b'250-SIZE 35882577\\r\\n'\n",
      "reply: b'250-8BITMIME\\r\\n'\n",
      "reply: b'250-AUTH LOGIN PLAIN XOAUTH2 PLAIN-CLIENTTOKEN OAUTHBEARER XOAUTH\\r\\n'\n",
      "reply: b'250-ENHANCEDSTATUSCODES\\r\\n'\n",
      "reply: b'250-PIPELINING\\r\\n'\n",
      "reply: b'250-CHUNKING\\r\\n'\n",
      "reply: b'250 SMTPUTF8\\r\\n'\n",
      "reply: retcode (250); Msg: b'smtp.gmail.com at your service, [103.166.15.70]\\nSIZE 35882577\\n8BITMIME\\nAUTH LOGIN PLAIN XOAUTH2 PLAIN-CLIENTTOKEN OAUTHBEARER XOAUTH\\nENHANCEDSTATUSCODES\\nPIPELINING\\nCHUNKING\\nSMTPUTF8'\n",
      "send: 'AUTH PLAIN AGFrc2hheWhhYmliMDkwOUBnbWFpbC5jb20AYWtzaGF5QDE5NzM=\\r\\n'\n",
      "reply: b'235 2.7.0 Accepted\\r\\n'\n",
      "reply: retcode (235); Msg: b'2.7.0 Accepted'\n",
      "send: 'mail FROM:<akshayhabib0909@gmail.com> size=3743\\r\\n'\n",
      "reply: b'250 2.1.0 OK d16-20020a056a00245000b004f771b48736sm12139287pfj.194 - gsmtp\\r\\n'\n",
      "reply: retcode (250); Msg: b'2.1.0 OK d16-20020a056a00245000b004f771b48736sm12139287pfj.194 - gsmtp'\n",
      "send: 'rcpt TO:<akshayhabib0909@gmail.com>\\r\\n'\n",
      "reply: b'250 2.1.5 OK d16-20020a056a00245000b004f771b48736sm12139287pfj.194 - gsmtp\\r\\n'\n",
      "reply: retcode (250); Msg: b'2.1.5 OK d16-20020a056a00245000b004f771b48736sm12139287pfj.194 - gsmtp'\n",
      "send: 'data\\r\\n'\n",
      "reply: b'354  Go ahead d16-20020a056a00245000b004f771b48736sm12139287pfj.194 - gsmtp\\r\\n'\n",
      "reply: retcode (354); Msg: b'Go ahead d16-20020a056a00245000b004f771b48736sm12139287pfj.194 - gsmtp'\n",
      "data: (354, b'Go ahead d16-20020a056a00245000b004f771b48736sm12139287pfj.194 - gsmtp')\n",
      "send: b'Content-Type: multipart/mixed; boundary=\"===============9091436852092265755==\"\\r\\nMIME-Version: 1.0\\r\\nSubject: Top News Stories HN [Automated Email] 18-4-2022\\r\\nFrom: akshayhabib0909@gmail.com\\r\\nTo: akshayhabib0909@gmail.com\\r\\n\\r\\n--===============9091436852092265755==\\r\\nContent-Type: text/html; charset=\"utf-8\"\\r\\nMIME-Version: 1.0\\r\\nContent-Transfer-Encoding: base64\\r\\n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\\r\\nLTxicj48YnI+PGJyPlRoYW5rIHlvdTxicj48YnI+RW5kIG9mIE1lc3NhZ2U=\\r\\n\\r\\n--===============9091436852092265755==--\\r\\n.\\r\\n'\n",
      "reply: b'250 2.0.0 OK  1650273061 d16-20020a056a00245000b004f771b48736sm12139287pfj.194 - gsmtp\\r\\n'\n",
      "reply: retcode (250); Msg: b'2.0.0 OK  1650273061 d16-20020a056a00245000b004f771b48736sm12139287pfj.194 - gsmtp'\n",
      "data: (250, b'2.0.0 OK  1650273061 d16-20020a056a00245000b004f771b48736sm12139287pfj.194 - gsmtp')\n",
      "send: 'quit\\r\\n'\n"
     ]
    },
    {
     "name": "stdout",
     "output_type": "stream",
     "text": [
      "Email Sent...\n"
     ]
    },
    {
     "name": "stderr",
     "output_type": "stream",
     "text": [
      "reply: b'221 2.0.0 closing connection d16-20020a056a00245000b004f771b48736sm12139287pfj.194 - gsmtp\\r\\n'\n",
      "reply: retcode (221); Msg: b'2.0.0 closing connection d16-20020a056a00245000b004f771b48736sm12139287pfj.194 - gsmtp'\n"
     ]
    },
    {
     "data": {
      "text/plain": [
       "(221,\n",
       " b'2.0.0 closing connection d16-20020a056a00245000b004f771b48736sm12139287pfj.194 - gsmtp')"
      ]
     },
     "execution_count": 23,
     "metadata": {},
     "output_type": "execute_result"
    }
   ],
   "source": [
    "#server.ehlo\n",
    "server.login(FROM, PASS)\n",
    "server.sendmail(FROM, TO, msg.as_string())\n",
    "\n",
    "print('Email Sent...')\n",
    "\n",
    "server.quit()"
   ]
  },
  {
   "cell_type": "code",
   "execution_count": null,
   "id": "7df385e5",
   "metadata": {},
   "outputs": [],
   "source": []
  },
  {
   "cell_type": "code",
   "execution_count": null,
   "id": "ce4fe89d",
   "metadata": {},
   "outputs": [],
   "source": []
  },
  {
   "cell_type": "code",
   "execution_count": null,
   "id": "3f93594e",
   "metadata": {},
   "outputs": [],
   "source": []
  }
 ],
 "metadata": {
  "kernelspec": {
   "display_name": "Python 3 (ipykernel)",
   "language": "python",
   "name": "python3"
  },
  "language_info": {
   "codemirror_mode": {
    "name": "ipython",
    "version": 3
   },
   "file_extension": ".py",
   "mimetype": "text/x-python",
   "name": "python",
   "nbconvert_exporter": "python",
   "pygments_lexer": "ipython3",
   "version": "3.8.8"
  }
 },
 "nbformat": 4,
 "nbformat_minor": 5
}
