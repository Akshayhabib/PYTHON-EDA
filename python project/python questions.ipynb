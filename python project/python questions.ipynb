{
 "cells": [
  {
   "cell_type": "code",
   "execution_count": 1,
   "id": "13980e3e",
   "metadata": {},
   "outputs": [],
   "source": [
    "import numpy as np\n",
    "import pandas as pd\n",
    "import matplotlib.pyplot as plt\n",
    "import seaborn as sns\n",
    "\n",
    "#linearegression\n",
    "\n",
    "from sklearn.linear_model import LinearRegression\n",
    "from sklearn.datasets import load_boston"
   ]
  },
  {
   "cell_type": "markdown",
   "id": "d65a06b8",
   "metadata": {},
   "source": [
    "# 1. Given below are a list of positive and negative words. Also a list of comments is provided. Segregate the comments based on positive and negative sentiments."
   ]
  },
  {
   "cell_type": "code",
   "execution_count": 3,
   "id": "b34811f5",
   "metadata": {},
   "outputs": [],
   "source": [
    "positive= ['good','awesome', 'best', 'nice']   \n",
    "negative = ['worst','awful']                    \n",
    "comments = ['He is a good boy',                \n",
    "'Food is the worst here',\n",
    "'He is an awesome player',\n",
    "'She is the best',\n",
    "'This pizza tastes awful',\n",
    "'These burger are really nice']\n",
    "ps =[]       #postive sentiments  (ps)                           \n",
    "ns=[]        #negative sentiments (ns)                            \n",
    "for i in comments:\n",
    "    for j in positive:\n",
    "        if j in i:                        \n",
    "            ps.append(i)\n",
    "    for j in negative:\n",
    "        if j in i:\n",
    "            ns.append(i)"
   ]
  },
  {
   "cell_type": "code",
   "execution_count": 4,
   "id": "87306093",
   "metadata": {},
   "outputs": [
    {
     "name": "stdout",
     "output_type": "stream",
     "text": [
      "positive sentiments: ['He is a good boy', 'He is an awesome player', 'She is the best', 'These burger are really nice']\n",
      "negative sentiments: ['Food is the worst here', 'This pizza tastes awful']\n"
     ]
    }
   ],
   "source": [
    "print(\"positive sentiments:\",ps)\n",
    "print('negative sentiments:',ns)"
   ]
  },
  {
   "cell_type": "markdown",
   "id": "e99d087b",
   "metadata": {},
   "source": [
    "# 2. Create a dictionary containing three lambda functions square, cube and square root. Pass the values (input from the user)to the functions in the dictionary respectively. Then add the outputs of each function and print it."
   ]
  },
  {
   "cell_type": "code",
   "execution_count": 5,
   "id": "c5838e7f",
   "metadata": {},
   "outputs": [
    {
     "name": "stdout",
     "output_type": "stream",
     "text": [
      "enter a number:121\n",
      "\u001b[1mtotal of square, cube & sqroot: 1786213.0\n"
     ]
    }
   ],
   "source": [
    "n=int(input(\"enter a number:\"))\n",
    "def addi(n):\n",
    "    d = { 'Square': lambda a : a**2, \n",
    "         'Cube': lambda a : a**3, \n",
    "         'Squareroot': lambda a : a**(1/2)}\n",
    "    sum = 0\n",
    "    for key in d.keys():\n",
    "        sum += d[key](n)\n",
    "    return sum\n",
    "    \n",
    "print('\\033[1m'+\"total of square, cube & sqroot:\",addi(n))"
   ]
  },
  {
   "cell_type": "markdown",
   "id": "9db3e097",
   "metadata": {},
   "source": [
    "# 3. Find the fruits that are sour in taste from the tuple given below."
   ]
  },
  {
   "cell_type": "code",
   "execution_count": 12,
   "id": "ca5a302e",
   "metadata": {},
   "outputs": [
    {
     "name": "stdout",
     "output_type": "stream",
     "text": [
      "Sour Fruits: ['Lemon', 'Grapes', 'Kiwi', 'Orange', 'Limes']\n"
     ]
    }
   ],
   "source": [
    "\n",
    "fruits = (('Lemon','sour'),\n",
    "('DragonFruit', 'Sweet'),\n",
    "('Grapes','soUr'),\n",
    "('Kiwi','Sour'),\n",
    "('Apples','sweet'),\n",
    "('Orange','sour'),\n",
    "('Blueberries','sweet'),\n",
    "('Limes','Sour')\n",
    ")\n",
    "sour_fruits=[]\n",
    "for i in fruits:\n",
    " \n",
    "  if i[1] in ['Sour','sour','soUr']:    \n",
    "    sour_fruits.append(i[0])\n",
    "print('Sour Fruits:',sour_fruits)\n"
   ]
  },
  {
   "cell_type": "markdown",
   "id": "72b2cfb0",
   "metadata": {},
   "source": [
    "# 4.A list of words is given. Find the words from the list that have their second character in uppercase."
   ]
  },
  {
   "cell_type": "code",
   "execution_count": 14,
   "id": "adf0bda5",
   "metadata": {},
   "outputs": [
    {
     "name": "stdout",
     "output_type": "stream",
     "text": [
      "second character in uppercase: ['hOw', 'ARe']\n"
     ]
    }
   ],
   "source": [
    "ls = ['hello', 'Dear', 'hOw', 'ARe', 'You']\n",
    "a=[i for i in ls if i[1].isupper()]             \n",
    "print('second character in uppercase:',a )"
   ]
  },
  {
   "cell_type": "markdown",
   "id": "0ea67969",
   "metadata": {},
   "source": [
    "# 5. A dictionary of names and their weights on earth is given. Find how much they will weight on the moon. (Use map and lambda functions)"
   ]
  },
  {
   "cell_type": "code",
   "execution_count": 15,
   "id": "d7fde353",
   "metadata": {},
   "outputs": [
    {
     "data": {
      "text/plain": [
       "{'John': 7.44, 'Shelly': 10.75, 'Marry': 5.79}"
      ]
     },
     "execution_count": 15,
     "metadata": {},
     "output_type": "execute_result"
    }
   ],
   "source": [
    "WeightOnEarth = {'John':45, 'Shelly':65, 'Marry':35}\n",
    "GMoon = 1.622\n",
    "GEarth = 9.81\n",
    "dict(map(lambda x : (x, round((WeightOnEarth[x]/GEarth)*GMoon, 2)), WeightOnEarth))\n"
   ]
  },
  {
   "cell_type": "markdown",
   "id": "bb4a401e",
   "metadata": {},
   "source": [
    "# 6. Write a program to fetch the words from the given list which have their first character in uppercase"
   ]
  },
  {
   "cell_type": "code",
   "execution_count": 20,
   "id": "d02a6646",
   "metadata": {},
   "outputs": [
    {
     "name": "stdout",
     "output_type": "stream",
     "text": [
      "first character in uppercase: ['Maria', 'World', 'You', 'Hello', 'Merry']\n"
     ]
    }
   ],
   "source": [
    "\n",
    "names_List = ['santa Maria', 'Hello World','Merry christmas', 'tHank You']\n",
    "a=[i.split(' ')[0] for i in names_List]\n",
    "b=[i.split(' ')[1] for i in names_List]\n",
    "l_2=[ x for x in b if x[0].isupper()]   \n",
    "l_1=[ x for x in a if x[0].isupper()]\n",
    "l_3=l_2+l_1\n",
    "print('first character in uppercase:',l3)"
   ]
  },
  {
   "cell_type": "markdown",
   "id": "2a52eb61",
   "metadata": {},
   "source": [
    "# 7. A list containing multiple lists is given. Convert each inner list into sets and find the intersection of all the sets."
   ]
  },
  {
   "cell_type": "code",
   "execution_count": 26,
   "id": "cfe881a1",
   "metadata": {},
   "outputs": [
    {
     "name": "stdout",
     "output_type": "stream",
     "text": [
      "{8, 3}\n"
     ]
    }
   ],
   "source": [
    "a = [[1, 2, 3, 4, 8], [2, 3, 8, 5, 6], [8, 4, 5, 3, 7], [6, 9, 8, 3], [9,\n",
    "12, 3, 7, 6, 8, 4, 6, 21, 1, 6]]\n",
    "res = [set(ele) for ele in a]\n",
    "print(res[0].intersection(*res)) "
   ]
  },
  {
   "cell_type": "markdown",
   "id": "b467400c",
   "metadata": {},
   "source": [
    "# 8. Find the cumulative average of the list [9,8,7,6,5] using accumulate() and lambda function."
   ]
  },
  {
   "cell_type": "code",
   "execution_count": 30,
   "id": "bfd020eb",
   "metadata": {},
   "outputs": [
    {
     "name": "stdout",
     "output_type": "stream",
     "text": [
      "cumulative average: [9, 8.5, 8.0, 7.5, 7.0]\n"
     ]
    }
   ],
   "source": [
    "i= [9,8,7,6,5]\n",
    "import itertools as it\n",
    "l=[]\n",
    "l = it.accumulate(list(enumerate(i)), lambda x,y: (y[0], (x[1]*(x[0]+1) + y[1])/(y[0]+1)))   \n",
    "print('cumulative average:',list(map(lambda x: x[1], l)))"
   ]
  },
  {
   "cell_type": "markdown",
   "id": "e5f5d93c",
   "metadata": {},
   "source": [
    "# 9. A list of words is given. Convert the words into uppercase. Use lambda and map functions."
   ]
  },
  {
   "cell_type": "code",
   "execution_count": 32,
   "id": "7ac14828",
   "metadata": {},
   "outputs": [
    {
     "data": {
      "text/plain": [
       "['TRUE', 'FALSE', 'TRUE', 'TRUE', 'FALSE', 'FALSE']"
      ]
     },
     "execution_count": 32,
     "metadata": {},
     "output_type": "execute_result"
    }
   ],
   "source": [
    "\n",
    "lsbool = ['True','FALse','tRUe','tRue','False','faLse']\n",
    "i= map(lambda x:x.upper(), lsbool)   \n",
    "output = list(i)\n",
    "output"
   ]
  },
  {
   "cell_type": "markdown",
   "id": "da616813",
   "metadata": {},
   "source": [
    "# 10. A list of dates (dd-mm-yyyy)in the form of string is given below. Create a new list that stores years i.e. the 'yyyy' part from the dates in the given list."
   ]
  },
  {
   "cell_type": "code",
   "execution_count": 38,
   "id": "ff01e386",
   "metadata": {},
   "outputs": [
    {
     "name": "stdout",
     "output_type": "stream",
     "text": [
      "years: ['1997', '2011', '1993', '2020', '1997', '2011', '1993', '2020']\n"
     ]
    }
   ],
   "source": [
    "list=[]\n",
    "datesList = ['17-12-1997','22-04-2011','01-05-1993','19-06-2020']\n",
    "for i in datesList:\n",
    "    a.append(i[6:])      \n",
    "print(\"years:\",a)"
   ]
  },
  {
   "cell_type": "code",
   "execution_count": null,
   "id": "574b3ab4",
   "metadata": {},
   "outputs": [],
   "source": []
  },
  {
   "cell_type": "code",
   "execution_count": null,
   "id": "f3c86c3c",
   "metadata": {},
   "outputs": [],
   "source": []
  },
  {
   "cell_type": "code",
   "execution_count": null,
   "id": "267445ca",
   "metadata": {},
   "outputs": [],
   "source": []
  }
 ],
 "metadata": {
  "kernelspec": {
   "display_name": "Python 3 (ipykernel)",
   "language": "python",
   "name": "python3"
  },
  "language_info": {
   "codemirror_mode": {
    "name": "ipython",
    "version": 3
   },
   "file_extension": ".py",
   "mimetype": "text/x-python",
   "name": "python",
   "nbconvert_exporter": "python",
   "pygments_lexer": "ipython3",
   "version": "3.8.8"
  }
 },
 "nbformat": 4,
 "nbformat_minor": 5
}
